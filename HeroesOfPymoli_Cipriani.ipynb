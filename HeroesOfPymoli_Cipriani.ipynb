{
 "cells": [
  {
   "cell_type": "markdown",
   "metadata": {},
   "source": [
    "### Note\n",
    "* Instructions have been included for each segment. You do not have to follow them exactly, but they are included to help you think through the steps."
   ]
  },
  {
   "cell_type": "code",
   "execution_count": 5,
   "metadata": {},
   "outputs": [],
   "source": [
    "#Dependencies\n",
    "import pandas as pd\n",
    "import numpy as np\n",
    "import os\n",
    "\n",
    "#Data file\n",
    "file_to_load = \"Resources/purchase_data.csv\"\n",
    "\n",
    "# Read purchasing file and store into pandas data frame\n",
    "purchase_data = pd.read_csv(file_to_load)"
   ]
  },
  {
   "cell_type": "markdown",
   "metadata": {},
   "source": [
    "## Player Count"
   ]
  },
  {
   "cell_type": "markdown",
   "metadata": {},
   "source": [
    "* Display the total number of players\n"
   ]
  },
  {
   "cell_type": "code",
   "execution_count": 6,
   "metadata": {},
   "outputs": [
    {
     "data": {
      "text/html": [
       "<div>\n",
       "<style scoped>\n",
       "    .dataframe tbody tr th:only-of-type {\n",
       "        vertical-align: middle;\n",
       "    }\n",
       "\n",
       "    .dataframe tbody tr th {\n",
       "        vertical-align: top;\n",
       "    }\n",
       "\n",
       "    .dataframe thead th {\n",
       "        text-align: right;\n",
       "    }\n",
       "</style>\n",
       "<table border=\"1\" class=\"dataframe\">\n",
       "  <thead>\n",
       "    <tr style=\"text-align: right;\">\n",
       "      <th></th>\n",
       "      <th>Total Players</th>\n",
       "    </tr>\n",
       "  </thead>\n",
       "  <tbody>\n",
       "    <tr>\n",
       "      <th>0</th>\n",
       "      <td>576</td>\n",
       "    </tr>\n",
       "  </tbody>\n",
       "</table>\n",
       "</div>"
      ],
      "text/plain": [
       "   Total Players\n",
       "0            576"
      ]
     },
     "execution_count": 6,
     "metadata": {},
     "output_type": "execute_result"
    }
   ],
   "source": [
    "#Total players\n",
    "Total_Players = len(purchase_data[\"SN\"].value_counts())\n",
    "\n",
    "#Payer count\n",
    "Player_Count = pd.DataFrame({\"Total Players\":[Total_Players]})\n",
    "Player_Count"
   ]
  },
  {
   "cell_type": "markdown",
   "metadata": {},
   "source": [
    "## Purchasing Analysis (Total)"
   ]
  },
  {
   "cell_type": "markdown",
   "metadata": {},
   "source": [
    "* Run basic calculations to obtain number of unique items, average price, etc.\n",
    "\n",
    "\n",
    "* Create a summary data frame to hold the results\n",
    "\n",
    "\n",
    "* Optional: give the displayed data cleaner formatting\n",
    "\n",
    "\n",
    "* Display the summary data frame\n"
   ]
  },
  {
   "cell_type": "code",
   "execution_count": 8,
   "metadata": {
    "scrolled": true
   },
   "outputs": [
    {
     "data": {
      "text/html": [
       "<style  type=\"text/css\" >\n",
       "</style><table id=\"T_7b5f6c8d_c739_11eb_a72b_b831b57ad248\" ><thead>    <tr>        <th class=\"blank level0\" ></th>        <th class=\"col_heading level0 col0\" >Unique Items</th>        <th class=\"col_heading level0 col1\" >Avg Price</th>        <th class=\"col_heading level0 col2\" >Purchases</th>        <th class=\"col_heading level0 col3\" >Total Revenue</th>    </tr></thead><tbody>\n",
       "                <tr>\n",
       "                        <th id=\"T_7b5f6c8d_c739_11eb_a72b_b831b57ad248level0_row0\" class=\"row_heading level0 row0\" >0</th>\n",
       "                        <td id=\"T_7b5f6c8d_c739_11eb_a72b_b831b57ad248row0_col0\" class=\"data row0 col0\" >179</td>\n",
       "                        <td id=\"T_7b5f6c8d_c739_11eb_a72b_b831b57ad248row0_col1\" class=\"data row0 col1\" >3.050987</td>\n",
       "                        <td id=\"T_7b5f6c8d_c739_11eb_a72b_b831b57ad248row0_col2\" class=\"data row0 col2\" >780</td>\n",
       "                        <td id=\"T_7b5f6c8d_c739_11eb_a72b_b831b57ad248row0_col3\" class=\"data row0 col3\" >$2,379.77</td>\n",
       "            </tr>\n",
       "    </tbody></table>"
      ],
      "text/plain": [
       "<pandas.io.formats.style.Styler at 0x24b79992520>"
      ]
     },
     "execution_count": 8,
     "metadata": {},
     "output_type": "execute_result"
    }
   ],
   "source": [
    "#Calculations \n",
    "Unique_Items = len((purchase_data[\"Item ID\"]).unique())\n",
    "Avg_Price = (purchase_data[\"Price\"]).mean()\n",
    "Purchases = (purchase_data[\"Purchase ID\"]).count()\n",
    "Total_Revenue = (purchase_data[\"Price\"]).sum()\n",
    "\n",
    "#Data frame\n",
    "Purchasing_df = pd.DataFrame({\"Unique Items\":[Unique_Items],\"Avg Price\":[Avg_Price], \"Purchases\": [Purchases], \"Total Revenue\": [Total_Revenue]})\n",
    "#Format\n",
    "Purchasing_df.style.format({'Average Price':\"${:,.2f}\",'Total Revenue': '${:,.2f}'})"
   ]
  },
  {
   "cell_type": "markdown",
   "metadata": {},
   "source": [
    "## Gender Demographics"
   ]
  },
  {
   "cell_type": "markdown",
   "metadata": {},
   "source": [
    "* Percentage and Count of Male Players\n",
    "\n",
    "\n",
    "* Percentage and Count of Female Players\n",
    "\n",
    "\n",
    "* Percentage and Count of Other / Non-Disclosed\n",
    "\n",
    "\n"
   ]
  },
  {
   "cell_type": "code",
   "execution_count": 11,
   "metadata": {},
   "outputs": [
    {
     "data": {
      "text/html": [
       "<style  type=\"text/css\" >\n",
       "</style><table id=\"T_945b6184_c739_11eb_8e46_b831b57ad248\" ><thead>    <tr>        <th class=\"blank level0\" ></th>        <th class=\"col_heading level0 col0\" >Percentage of Players</th>        <th class=\"col_heading level0 col1\" >Total Count</th>    </tr></thead><tbody>\n",
       "                <tr>\n",
       "                        <th id=\"T_945b6184_c739_11eb_8e46_b831b57ad248level0_row0\" class=\"row_heading level0 row0\" >Other / Non-Disclosed</th>\n",
       "                        <td id=\"T_945b6184_c739_11eb_8e46_b831b57ad248row0_col0\" class=\"data row0 col0\" >1.91</td>\n",
       "                        <td id=\"T_945b6184_c739_11eb_8e46_b831b57ad248row0_col1\" class=\"data row0 col1\" >11</td>\n",
       "            </tr>\n",
       "            <tr>\n",
       "                        <th id=\"T_945b6184_c739_11eb_8e46_b831b57ad248level0_row1\" class=\"row_heading level0 row1\" >Female</th>\n",
       "                        <td id=\"T_945b6184_c739_11eb_8e46_b831b57ad248row1_col0\" class=\"data row1 col0\" >14.06</td>\n",
       "                        <td id=\"T_945b6184_c739_11eb_8e46_b831b57ad248row1_col1\" class=\"data row1 col1\" >81</td>\n",
       "            </tr>\n",
       "            <tr>\n",
       "                        <th id=\"T_945b6184_c739_11eb_8e46_b831b57ad248level0_row2\" class=\"row_heading level0 row2\" >Male</th>\n",
       "                        <td id=\"T_945b6184_c739_11eb_8e46_b831b57ad248row2_col0\" class=\"data row2 col0\" >84.03</td>\n",
       "                        <td id=\"T_945b6184_c739_11eb_8e46_b831b57ad248row2_col1\" class=\"data row2 col1\" >484</td>\n",
       "            </tr>\n",
       "    </tbody></table>"
      ],
      "text/plain": [
       "<pandas.io.formats.style.Styler at 0x24b7a9a9130>"
      ]
     },
     "execution_count": 11,
     "metadata": {},
     "output_type": "execute_result"
    }
   ],
   "source": [
    "#Percent/Count of Male & Female Players\n",
    "Gender_Grouping = purchase_data.groupby(\"Gender\")\n",
    "Total_Gender_Count = Gender_Grouping.nunique()[\"SN\"]\n",
    "Percentage_of_Players = Total_Gender_Count / Total_Players * 100\n",
    "\n",
    "#Data frame\n",
    "Gender_Demographics = pd.DataFrame({\"Percentage of Players\": Percentage_of_Players, \"Total Count\": Total_Gender_Count})\n",
    "\n",
    "#Format\n",
    "Gender_Demographics.index.name = None\n",
    "Gender_Demographics.sort_values([\"Total Count\"]).style.format({\"Percentage of Players\":\"{:.2f}\"})"
   ]
  },
  {
   "cell_type": "markdown",
   "metadata": {},
   "source": [
    "\n",
    "## Purchasing Analysis (Gender)"
   ]
  },
  {
   "cell_type": "markdown",
   "metadata": {},
   "source": [
    "* Run basic calculations to obtain purchase count, avg. purchase price, avg. purchase total per person etc. by gender\n",
    "\n",
    "\n",
    "\n",
    "\n",
    "* Create a summary data frame to hold the results\n",
    "\n",
    "\n",
    "* Optional: give the displayed data cleaner formatting\n",
    "\n",
    "\n",
    "* Display the summary data frame"
   ]
  },
  {
   "cell_type": "code",
   "execution_count": 12,
   "metadata": {},
   "outputs": [
    {
     "data": {
      "text/html": [
       "<style  type=\"text/css\" >\n",
       "</style><table id=\"T_e73f478b_c739_11eb_a604_b831b57ad248\" ><thead>    <tr>        <th class=\"blank level0\" ></th>        <th class=\"col_heading level0 col0\" >Purchase Count</th>        <th class=\"col_heading level0 col1\" >Average Purchase Price</th>        <th class=\"col_heading level0 col2\" >Average Purchase Value</th>        <th class=\"col_heading level0 col3\" >Avg Purchase Total per Person</th>    </tr>    <tr>        <th class=\"index_name level0\" >Gender</th>        <th class=\"blank\" ></th>        <th class=\"blank\" ></th>        <th class=\"blank\" ></th>        <th class=\"blank\" ></th>    </tr></thead><tbody>\n",
       "                <tr>\n",
       "                        <th id=\"T_e73f478b_c739_11eb_a604_b831b57ad248level0_row0\" class=\"row_heading level0 row0\" >Female</th>\n",
       "                        <td id=\"T_e73f478b_c739_11eb_a604_b831b57ad248row0_col0\" class=\"data row0 col0\" >113</td>\n",
       "                        <td id=\"T_e73f478b_c739_11eb_a604_b831b57ad248row0_col1\" class=\"data row0 col1\" >$3.20</td>\n",
       "                        <td id=\"T_e73f478b_c739_11eb_a604_b831b57ad248row0_col2\" class=\"data row0 col2\" >$361.94</td>\n",
       "                        <td id=\"T_e73f478b_c739_11eb_a604_b831b57ad248row0_col3\" class=\"data row0 col3\" >$3.20</td>\n",
       "            </tr>\n",
       "            <tr>\n",
       "                        <th id=\"T_e73f478b_c739_11eb_a604_b831b57ad248level0_row1\" class=\"row_heading level0 row1\" >Male</th>\n",
       "                        <td id=\"T_e73f478b_c739_11eb_a604_b831b57ad248row1_col0\" class=\"data row1 col0\" >652</td>\n",
       "                        <td id=\"T_e73f478b_c739_11eb_a604_b831b57ad248row1_col1\" class=\"data row1 col1\" >$3.02</td>\n",
       "                        <td id=\"T_e73f478b_c739_11eb_a604_b831b57ad248row1_col2\" class=\"data row1 col2\" >$1,967.64</td>\n",
       "                        <td id=\"T_e73f478b_c739_11eb_a604_b831b57ad248row1_col3\" class=\"data row1 col3\" >$3.02</td>\n",
       "            </tr>\n",
       "            <tr>\n",
       "                        <th id=\"T_e73f478b_c739_11eb_a604_b831b57ad248level0_row2\" class=\"row_heading level0 row2\" >Other / Non-Disclosed</th>\n",
       "                        <td id=\"T_e73f478b_c739_11eb_a604_b831b57ad248row2_col0\" class=\"data row2 col0\" >15</td>\n",
       "                        <td id=\"T_e73f478b_c739_11eb_a604_b831b57ad248row2_col1\" class=\"data row2 col1\" >$3.35</td>\n",
       "                        <td id=\"T_e73f478b_c739_11eb_a604_b831b57ad248row2_col2\" class=\"data row2 col2\" >$50.19</td>\n",
       "                        <td id=\"T_e73f478b_c739_11eb_a604_b831b57ad248row2_col3\" class=\"data row2 col3\" >$3.35</td>\n",
       "            </tr>\n",
       "    </tbody></table>"
      ],
      "text/plain": [
       "<pandas.io.formats.style.Styler at 0x24b799a8be0>"
      ]
     },
     "execution_count": 12,
     "metadata": {},
     "output_type": "execute_result"
    }
   ],
   "source": [
    "#Purchase By Gender\n",
    "Purchase_Count = Gender_Grouping[\"Purchase ID\"].count()\n",
    "Average_Purchase_Price = Gender_Grouping[\"Price\"].mean() \n",
    "Average_Total_Purchase = Gender_Grouping[\"Price\"].sum()\n",
    "Average_Purchase_per_person = Average_Total_Purchase/Total_Gender_Count\n",
    "\n",
    "#Data Frame \n",
    "Gender_Demographics = pd.DataFrame({\"Purchase Count\": Purchase_Count,\"Average Purchase Price\": Average_Purchase_Price,\"Average Purchase Value\":Average_Total_Purchase,\"Avg Purchase Total per Person\": Average_Purchase_Price})\n",
    "\n",
    "#Format\n",
    "Gender_Demographics.index.name = \"Gender\"\n",
    "Gender_Demographics.style.format({\"Average Purchase Value\":\"${:,.2f}\",\"Average Purchase Price\":\"${:,.2f}\",\"Avg Purchase Total per Person\":\"${:,.2f}\"})"
   ]
  },
  {
   "cell_type": "markdown",
   "metadata": {},
   "source": [
    "## Age Demographics"
   ]
  },
  {
   "cell_type": "markdown",
   "metadata": {},
   "source": [
    "* Establish bins for ages\n",
    "\n",
    "\n",
    "* Categorize the existing players using the age bins. Hint: use pd.cut()\n",
    "\n",
    "\n",
    "* Calculate the numbers and percentages by age group\n",
    "\n",
    "\n",
    "* Create a summary data frame to hold the results\n",
    "\n",
    "\n",
    "* Optional: round the percentage column to two decimal points\n",
    "\n",
    "\n",
    "* Display Age Demographics Table\n"
   ]
  },
  {
   "cell_type": "code",
   "execution_count": 14,
   "metadata": {},
   "outputs": [
    {
     "data": {
      "text/html": [
       "<style  type=\"text/css\" >\n",
       "</style><table id=\"T_5e9d8bca_c73a_11eb_8bf2_b831b57ad248\" ><thead>    <tr>        <th class=\"blank level0\" ></th>        <th class=\"col_heading level0 col0\" >Percentage of Players</th>        <th class=\"col_heading level0 col1\" >Total Count</th>    </tr></thead><tbody>\n",
       "                <tr>\n",
       "                        <th id=\"T_5e9d8bca_c73a_11eb_8bf2_b831b57ad248level0_row0\" class=\"row_heading level0 row0\" ><10</th>\n",
       "                        <td id=\"T_5e9d8bca_c73a_11eb_8bf2_b831b57ad248row0_col0\" class=\"data row0 col0\" >2.95</td>\n",
       "                        <td id=\"T_5e9d8bca_c73a_11eb_8bf2_b831b57ad248row0_col1\" class=\"data row0 col1\" >17</td>\n",
       "            </tr>\n",
       "            <tr>\n",
       "                        <th id=\"T_5e9d8bca_c73a_11eb_8bf2_b831b57ad248level0_row1\" class=\"row_heading level0 row1\" >10-19</th>\n",
       "                        <td id=\"T_5e9d8bca_c73a_11eb_8bf2_b831b57ad248row1_col0\" class=\"data row1 col0\" >22.40</td>\n",
       "                        <td id=\"T_5e9d8bca_c73a_11eb_8bf2_b831b57ad248row1_col1\" class=\"data row1 col1\" >129</td>\n",
       "            </tr>\n",
       "            <tr>\n",
       "                        <th id=\"T_5e9d8bca_c73a_11eb_8bf2_b831b57ad248level0_row2\" class=\"row_heading level0 row2\" >19-29</th>\n",
       "                        <td id=\"T_5e9d8bca_c73a_11eb_8bf2_b831b57ad248row2_col0\" class=\"data row2 col0\" >58.16</td>\n",
       "                        <td id=\"T_5e9d8bca_c73a_11eb_8bf2_b831b57ad248row2_col1\" class=\"data row2 col1\" >335</td>\n",
       "            </tr>\n",
       "            <tr>\n",
       "                        <th id=\"T_5e9d8bca_c73a_11eb_8bf2_b831b57ad248level0_row3\" class=\"row_heading level0 row3\" >29-39</th>\n",
       "                        <td id=\"T_5e9d8bca_c73a_11eb_8bf2_b831b57ad248row3_col0\" class=\"data row3 col0\" >14.41</td>\n",
       "                        <td id=\"T_5e9d8bca_c73a_11eb_8bf2_b831b57ad248row3_col1\" class=\"data row3 col1\" >83</td>\n",
       "            </tr>\n",
       "            <tr>\n",
       "                        <th id=\"T_5e9d8bca_c73a_11eb_8bf2_b831b57ad248level0_row4\" class=\"row_heading level0 row4\" >40 Plus</th>\n",
       "                        <td id=\"T_5e9d8bca_c73a_11eb_8bf2_b831b57ad248row4_col0\" class=\"data row4 col0\" >2.08</td>\n",
       "                        <td id=\"T_5e9d8bca_c73a_11eb_8bf2_b831b57ad248row4_col1\" class=\"data row4 col1\" >12</td>\n",
       "            </tr>\n",
       "    </tbody></table>"
      ],
      "text/plain": [
       "<pandas.io.formats.style.Styler at 0x24b777cd280>"
      ]
     },
     "execution_count": 14,
     "metadata": {},
     "output_type": "execute_result"
    }
   ],
   "source": [
    "#Age Bins\n",
    "Age_Bins = [0, 9.99, 19.99, 29.99, 39.99, 150]\n",
    "Bin_Names = [\"<10\", \"10-19\", \"19-29\", \"29-39\", \"40 Plus\"]\n",
    "purchase_data[\"Age Group\"] = pd.cut(purchase_data[\"Age\"],Age_Bins, labels=Bin_Names)\n",
    "purchase_data\n",
    "\n",
    "#Data Frame\n",
    "Age_Group = purchase_data.groupby(\"Age Group\")\n",
    "\n",
    "#Count/percentage of total players by age\n",
    "Total_Age_Count = Age_Group[\"SN\"].nunique()\n",
    "Percentage_By_Age = (Total_Age_Count/Total_Players) * 100\n",
    "\n",
    "#Data Frame2\n",
    "Age_Demo = pd.DataFrame({\"Percentage of Players\": Percentage_By_Age, \"Total Count\": Total_Age_Count})\n",
    "\n",
    "#Format\n",
    "Age_Demo.index.name = None\n",
    "Age_Demo.style.format({\"Percentage of Players\":\"{:,.2f}\"})"
   ]
  },
  {
   "cell_type": "markdown",
   "metadata": {},
   "source": [
    "## Purchasing Analysis (Age)"
   ]
  },
  {
   "cell_type": "markdown",
   "metadata": {},
   "source": [
    "* Bin the purchase_data data frame by age\n",
    "\n",
    "\n",
    "* Run basic calculations to obtain purchase count, avg. purchase price, avg. purchase total per person etc. in the table below\n",
    "\n",
    "\n",
    "* Create a summary data frame to hold the results\n",
    "\n",
    "\n",
    "* Optional: give the displayed data cleaner formatting\n",
    "\n",
    "\n",
    "* Display the summary data frame"
   ]
  },
  {
   "cell_type": "code",
   "execution_count": 17,
   "metadata": {},
   "outputs": [
    {
     "data": {
      "text/html": [
       "<style  type=\"text/css\" >\n",
       "</style><table id=\"T_6596349f_c73b_11eb_a52d_b831b57ad248\" ><thead>    <tr>        <th class=\"blank level0\" ></th>        <th class=\"col_heading level0 col0\" >Purchase Count</th>        <th class=\"col_heading level0 col1\" >Average Purchase Price</th>        <th class=\"col_heading level0 col2\" >Total Purchase Value</th>        <th class=\"col_heading level0 col3\" >Average Purchase Total per Person</th>    </tr></thead><tbody>\n",
       "                <tr>\n",
       "                        <th id=\"T_6596349f_c73b_11eb_a52d_b831b57ad248level0_row0\" class=\"row_heading level0 row0\" ><10</th>\n",
       "                        <td id=\"T_6596349f_c73b_11eb_a52d_b831b57ad248row0_col0\" class=\"data row0 col0\" >23</td>\n",
       "                        <td id=\"T_6596349f_c73b_11eb_a52d_b831b57ad248row0_col1\" class=\"data row0 col1\" >$3.35</td>\n",
       "                        <td id=\"T_6596349f_c73b_11eb_a52d_b831b57ad248row0_col2\" class=\"data row0 col2\" >$77.13</td>\n",
       "                        <td id=\"T_6596349f_c73b_11eb_a52d_b831b57ad248row0_col3\" class=\"data row0 col3\" >$4.54</td>\n",
       "            </tr>\n",
       "            <tr>\n",
       "                        <th id=\"T_6596349f_c73b_11eb_a52d_b831b57ad248level0_row1\" class=\"row_heading level0 row1\" >10-19</th>\n",
       "                        <td id=\"T_6596349f_c73b_11eb_a52d_b831b57ad248row1_col0\" class=\"data row1 col0\" >164</td>\n",
       "                        <td id=\"T_6596349f_c73b_11eb_a52d_b831b57ad248row1_col1\" class=\"data row1 col1\" >$3.02</td>\n",
       "                        <td id=\"T_6596349f_c73b_11eb_a52d_b831b57ad248row1_col2\" class=\"data row1 col2\" >$495.67</td>\n",
       "                        <td id=\"T_6596349f_c73b_11eb_a52d_b831b57ad248row1_col3\" class=\"data row1 col3\" >$3.84</td>\n",
       "            </tr>\n",
       "            <tr>\n",
       "                        <th id=\"T_6596349f_c73b_11eb_a52d_b831b57ad248level0_row2\" class=\"row_heading level0 row2\" >19-29</th>\n",
       "                        <td id=\"T_6596349f_c73b_11eb_a52d_b831b57ad248row2_col0\" class=\"data row2 col0\" >466</td>\n",
       "                        <td id=\"T_6596349f_c73b_11eb_a52d_b831b57ad248row2_col1\" class=\"data row2 col1\" >$3.02</td>\n",
       "                        <td id=\"T_6596349f_c73b_11eb_a52d_b831b57ad248row2_col2\" class=\"data row2 col2\" >$1,407.06</td>\n",
       "                        <td id=\"T_6596349f_c73b_11eb_a52d_b831b57ad248row2_col3\" class=\"data row2 col3\" >$4.20</td>\n",
       "            </tr>\n",
       "            <tr>\n",
       "                        <th id=\"T_6596349f_c73b_11eb_a52d_b831b57ad248level0_row3\" class=\"row_heading level0 row3\" >29-39</th>\n",
       "                        <td id=\"T_6596349f_c73b_11eb_a52d_b831b57ad248row3_col0\" class=\"data row3 col0\" >114</td>\n",
       "                        <td id=\"T_6596349f_c73b_11eb_a52d_b831b57ad248row3_col1\" class=\"data row3 col1\" >$3.17</td>\n",
       "                        <td id=\"T_6596349f_c73b_11eb_a52d_b831b57ad248row3_col2\" class=\"data row3 col2\" >$361.67</td>\n",
       "                        <td id=\"T_6596349f_c73b_11eb_a52d_b831b57ad248row3_col3\" class=\"data row3 col3\" >$4.36</td>\n",
       "            </tr>\n",
       "            <tr>\n",
       "                        <th id=\"T_6596349f_c73b_11eb_a52d_b831b57ad248level0_row4\" class=\"row_heading level0 row4\" >40 Plus</th>\n",
       "                        <td id=\"T_6596349f_c73b_11eb_a52d_b831b57ad248row4_col0\" class=\"data row4 col0\" >13</td>\n",
       "                        <td id=\"T_6596349f_c73b_11eb_a52d_b831b57ad248row4_col1\" class=\"data row4 col1\" >$2.94</td>\n",
       "                        <td id=\"T_6596349f_c73b_11eb_a52d_b831b57ad248row4_col2\" class=\"data row4 col2\" >$38.24</td>\n",
       "                        <td id=\"T_6596349f_c73b_11eb_a52d_b831b57ad248row4_col3\" class=\"data row4 col3\" >$3.19</td>\n",
       "            </tr>\n",
       "    </tbody></table>"
      ],
      "text/plain": [
       "<pandas.io.formats.style.Styler at 0x24b7ab1ae80>"
      ]
     },
     "execution_count": 17,
     "metadata": {},
     "output_type": "execute_result"
    }
   ],
   "source": [
    "# Count purchases by age group\n",
    "Purch_Age_Count = Age_Group[\"Purchase ID\"].count()\n",
    "Average_Purch_Price_Age = Age_Group[\"Price\"].mean()\n",
    "Total_Purch_Value = Age_Group[\"Price\"].sum()\n",
    "Average_Purch_Per_Person = Total_Purch_Value/Total_Age_Count\n",
    "\n",
    "#DataFrame\n",
    "Age_Demo = pd.DataFrame({\"Purchase Count\": Purch_Age_Count,\"Average Purchase Price\": Average_Purch_Price_Age,\"Total Purchase Value\":Total_Purch_Value,\"Average Purchase Total per Person\": Average_Purch_Per_Person})\n",
    "\n",
    "#Format\n",
    "Age_Demo.index.name = None\n",
    "Age_Demo.style.format({\"Average Purchase Price\":\"${:,.2f}\",\"Total Purchase Value\":\"${:,.2f}\",\"Average Purchase Total per Person\":\"${:,.2f}\"})"
   ]
  },
  {
   "cell_type": "markdown",
   "metadata": {},
   "source": [
    "## Top Spenders"
   ]
  },
  {
   "cell_type": "markdown",
   "metadata": {},
   "source": [
    "* Run basic calculations to obtain the results in the table below\n",
    "\n",
    "\n",
    "* Create a summary data frame to hold the results\n",
    "\n",
    "\n",
    "* Sort the total purchase value column in descending order\n",
    "\n",
    "\n",
    "* Optional: give the displayed data cleaner formatting\n",
    "\n",
    "\n",
    "* Display a preview of the summary data frame\n",
    "\n"
   ]
  },
  {
   "cell_type": "code",
   "execution_count": 21,
   "metadata": {},
   "outputs": [
    {
     "data": {
      "text/html": [
       "<style  type=\"text/css\" >\n",
       "</style><table id=\"T_bbd1de06_c73e_11eb_87e7_b831b57ad248\" ><thead>    <tr>        <th class=\"blank level0\" ></th>        <th class=\"col_heading level0 col0\" >Purchase Count</th>        <th class=\"col_heading level0 col1\" >Average Purchase Price</th>        <th class=\"col_heading level0 col2\" >Total Purchase Value</th>    </tr>    <tr>        <th class=\"index_name level0\" >SN</th>        <th class=\"blank\" ></th>        <th class=\"blank\" ></th>        <th class=\"blank\" ></th>    </tr></thead><tbody>\n",
       "                <tr>\n",
       "                        <th id=\"T_bbd1de06_c73e_11eb_87e7_b831b57ad248level0_row0\" class=\"row_heading level0 row0\" >Alo38</th>\n",
       "                        <td id=\"T_bbd1de06_c73e_11eb_87e7_b831b57ad248row0_col0\" class=\"data row0 col0\" >1</td>\n",
       "                        <td id=\"T_bbd1de06_c73e_11eb_87e7_b831b57ad248row0_col1\" class=\"data row0 col1\" >$1.00</td>\n",
       "                        <td id=\"T_bbd1de06_c73e_11eb_87e7_b831b57ad248row0_col2\" class=\"data row0 col2\" >$1.00</td>\n",
       "            </tr>\n",
       "            <tr>\n",
       "                        <th id=\"T_bbd1de06_c73e_11eb_87e7_b831b57ad248level0_row1\" class=\"row_heading level0 row1\" >Aidai61</th>\n",
       "                        <td id=\"T_bbd1de06_c73e_11eb_87e7_b831b57ad248row1_col0\" class=\"data row1 col0\" >1</td>\n",
       "                        <td id=\"T_bbd1de06_c73e_11eb_87e7_b831b57ad248row1_col1\" class=\"data row1 col1\" >$1.01</td>\n",
       "                        <td id=\"T_bbd1de06_c73e_11eb_87e7_b831b57ad248row1_col2\" class=\"data row1 col2\" >$1.01</td>\n",
       "            </tr>\n",
       "            <tr>\n",
       "                        <th id=\"T_bbd1de06_c73e_11eb_87e7_b831b57ad248level0_row2\" class=\"row_heading level0 row2\" >Chanirra79</th>\n",
       "                        <td id=\"T_bbd1de06_c73e_11eb_87e7_b831b57ad248row2_col0\" class=\"data row2 col0\" >1</td>\n",
       "                        <td id=\"T_bbd1de06_c73e_11eb_87e7_b831b57ad248row2_col1\" class=\"data row2 col1\" >$1.01</td>\n",
       "                        <td id=\"T_bbd1de06_c73e_11eb_87e7_b831b57ad248row2_col2\" class=\"data row2 col2\" >$1.01</td>\n",
       "            </tr>\n",
       "            <tr>\n",
       "                        <th id=\"T_bbd1de06_c73e_11eb_87e7_b831b57ad248level0_row3\" class=\"row_heading level0 row3\" >Isurria36</th>\n",
       "                        <td id=\"T_bbd1de06_c73e_11eb_87e7_b831b57ad248row3_col0\" class=\"data row3 col0\" >1</td>\n",
       "                        <td id=\"T_bbd1de06_c73e_11eb_87e7_b831b57ad248row3_col1\" class=\"data row3 col1\" >$1.02</td>\n",
       "                        <td id=\"T_bbd1de06_c73e_11eb_87e7_b831b57ad248row3_col2\" class=\"data row3 col2\" >$1.02</td>\n",
       "            </tr>\n",
       "            <tr>\n",
       "                        <th id=\"T_bbd1de06_c73e_11eb_87e7_b831b57ad248level0_row4\" class=\"row_heading level0 row4\" >Irilis75</th>\n",
       "                        <td id=\"T_bbd1de06_c73e_11eb_87e7_b831b57ad248row4_col0\" class=\"data row4 col0\" >1</td>\n",
       "                        <td id=\"T_bbd1de06_c73e_11eb_87e7_b831b57ad248row4_col1\" class=\"data row4 col1\" >$1.02</td>\n",
       "                        <td id=\"T_bbd1de06_c73e_11eb_87e7_b831b57ad248row4_col2\" class=\"data row4 col2\" >$1.02</td>\n",
       "            </tr>\n",
       "    </tbody></table>"
      ],
      "text/plain": [
       "<pandas.io.formats.style.Styler at 0x24b7ab08ac0>"
      ]
     },
     "execution_count": 21,
     "metadata": {},
     "output_type": "execute_result"
    }
   ],
   "source": [
    "#Top Spenders Results\n",
    "Spender_Results = purchase_data.groupby(\"SN\")\n",
    "Purch_Spender_Count = Spender_Results[\"Purchase ID\"].count()\n",
    "Average_Purch_Price_Spender = Spender_Results[\"Price\"].mean()\n",
    "Purch_Spender_Total = Spender_Results[\"Price\"].sum()\n",
    "\n",
    "#Data Frame\n",
    "Big_Spenders = pd.DataFrame({\"Purchase Count\": Purch_Spender_Count,\"Average Purchase Price\": Average_Purch_Price_Spender,\"Total Purchase Value\":Purch_Spender_Total})\n",
    "\n",
    "#Format\n",
    "Sort_Spenders = Big_Spenders.sort_values([\"Total Purchase Value\"]).head()\n",
    "Sort_Spenders.style.format({\"Average Purchase Total\":\"${:,.2f}\",\"Average Purchase Price\":\"${:,.2f}\",\"Total Purchase Value\":\"${:,.2f}\"})"
   ]
  },
  {
   "cell_type": "markdown",
   "metadata": {},
   "source": [
    "## Most Popular Items"
   ]
  },
  {
   "cell_type": "markdown",
   "metadata": {},
   "source": [
    "* Retrieve the Item ID, Item Name, and Item Price columns\n",
    "\n",
    "\n",
    "* Group by Item ID and Item Name. Perform calculations to obtain purchase count, average item price, and total purchase value\n",
    "\n",
    "\n",
    "* Create a summary data frame to hold the results\n",
    "\n",
    "\n",
    "* Sort the purchase count column in descending order\n",
    "\n",
    "\n",
    "* Optional: give the displayed data cleaner formatting\n",
    "\n",
    "\n",
    "* Display a preview of the summary data frame\n",
    "\n"
   ]
  },
  {
   "cell_type": "code",
   "execution_count": 23,
   "metadata": {},
   "outputs": [
    {
     "data": {
      "text/html": [
       "<style  type=\"text/css\" >\n",
       "</style><table id=\"T_8f930697_c740_11eb_9ed8_b831b57ad248\" ><thead>    <tr>        <th class=\"blank\" ></th>        <th class=\"blank level0\" ></th>        <th class=\"col_heading level0 col0\" >Purchase Count</th>        <th class=\"col_heading level0 col1\" >Item Price</th>        <th class=\"col_heading level0 col2\" >Total Purchase Value</th>    </tr>    <tr>        <th class=\"index_name level0\" >Item ID</th>        <th class=\"index_name level1\" >Item Name</th>        <th class=\"blank\" ></th>        <th class=\"blank\" ></th>        <th class=\"blank\" ></th>    </tr></thead><tbody>\n",
       "                <tr>\n",
       "                        <th id=\"T_8f930697_c740_11eb_9ed8_b831b57ad248level0_row0\" class=\"row_heading level0 row0\" >91</th>\n",
       "                        <th id=\"T_8f930697_c740_11eb_9ed8_b831b57ad248level1_row0\" class=\"row_heading level1 row0\" >Celeste</th>\n",
       "                        <td id=\"T_8f930697_c740_11eb_9ed8_b831b57ad248row0_col0\" class=\"data row0 col0\" >1</td>\n",
       "                        <td id=\"T_8f930697_c740_11eb_9ed8_b831b57ad248row0_col1\" class=\"data row0 col1\" >$4.17</td>\n",
       "                        <td id=\"T_8f930697_c740_11eb_9ed8_b831b57ad248row0_col2\" class=\"data row0 col2\" >$4.17</td>\n",
       "            </tr>\n",
       "            <tr>\n",
       "                        <th id=\"T_8f930697_c740_11eb_9ed8_b831b57ad248level0_row1\" class=\"row_heading level0 row1\" >118</th>\n",
       "                        <th id=\"T_8f930697_c740_11eb_9ed8_b831b57ad248level1_row1\" class=\"row_heading level1 row1\" >Ghost Reaver, Longsword of Magic</th>\n",
       "                        <td id=\"T_8f930697_c740_11eb_9ed8_b831b57ad248row1_col0\" class=\"data row1 col0\" >1</td>\n",
       "                        <td id=\"T_8f930697_c740_11eb_9ed8_b831b57ad248row1_col1\" class=\"data row1 col1\" >$2.17</td>\n",
       "                        <td id=\"T_8f930697_c740_11eb_9ed8_b831b57ad248row1_col2\" class=\"data row1 col2\" >$2.17</td>\n",
       "            </tr>\n",
       "            <tr>\n",
       "                        <th id=\"T_8f930697_c740_11eb_9ed8_b831b57ad248level0_row2\" class=\"row_heading level0 row2\" >134</th>\n",
       "                        <th id=\"T_8f930697_c740_11eb_9ed8_b831b57ad248level1_row2\" class=\"row_heading level1 row2\" >Undead Crusader</th>\n",
       "                        <td id=\"T_8f930697_c740_11eb_9ed8_b831b57ad248row2_col0\" class=\"data row2 col0\" >1</td>\n",
       "                        <td id=\"T_8f930697_c740_11eb_9ed8_b831b57ad248row2_col1\" class=\"data row2 col1\" >$4.50</td>\n",
       "                        <td id=\"T_8f930697_c740_11eb_9ed8_b831b57ad248row2_col2\" class=\"data row2 col2\" >$4.50</td>\n",
       "            </tr>\n",
       "            <tr>\n",
       "                        <th id=\"T_8f930697_c740_11eb_9ed8_b831b57ad248level0_row3\" class=\"row_heading level0 row3\" >27</th>\n",
       "                        <th id=\"T_8f930697_c740_11eb_9ed8_b831b57ad248level1_row3\" class=\"row_heading level1 row3\" >Riddle, Tribute of Ended Dreams</th>\n",
       "                        <td id=\"T_8f930697_c740_11eb_9ed8_b831b57ad248row3_col0\" class=\"data row3 col0\" >1</td>\n",
       "                        <td id=\"T_8f930697_c740_11eb_9ed8_b831b57ad248row3_col1\" class=\"data row3 col1\" >$3.30</td>\n",
       "                        <td id=\"T_8f930697_c740_11eb_9ed8_b831b57ad248row3_col2\" class=\"data row3 col2\" >$3.30</td>\n",
       "            </tr>\n",
       "            <tr>\n",
       "                        <th id=\"T_8f930697_c740_11eb_9ed8_b831b57ad248level0_row4\" class=\"row_heading level0 row4\" >104</th>\n",
       "                        <th id=\"T_8f930697_c740_11eb_9ed8_b831b57ad248level1_row4\" class=\"row_heading level1 row4\" >Gladiator's Glaive</th>\n",
       "                        <td id=\"T_8f930697_c740_11eb_9ed8_b831b57ad248row4_col0\" class=\"data row4 col0\" >1</td>\n",
       "                        <td id=\"T_8f930697_c740_11eb_9ed8_b831b57ad248row4_col1\" class=\"data row4 col1\" >$1.93</td>\n",
       "                        <td id=\"T_8f930697_c740_11eb_9ed8_b831b57ad248row4_col2\" class=\"data row4 col2\" >$1.93</td>\n",
       "            </tr>\n",
       "    </tbody></table>"
      ],
      "text/plain": [
       "<pandas.io.formats.style.Styler at 0x24b7ab1a550>"
      ]
     },
     "execution_count": 23,
     "metadata": {},
     "output_type": "execute_result"
    }
   ],
   "source": [
    "#Popular Items Results\n",
    "Items_Info = purchase_data[[\"Item ID\", \"Item Name\", \"Price\"]]\n",
    "Item_Results = Items_Info.groupby([\"Item ID\",\"Item Name\"])\n",
    "Purch_Item_Count = Item_Results[\"Price\"].count()\n",
    "Purch_Value = (Item_Results[\"Price\"].sum()) \n",
    "Item_Price = Purch_Value/Purch_Item_Count\n",
    "\n",
    "#Data Frame\n",
    "Popular_Items = pd.DataFrame({\"Purchase Count\": Purch_Item_Count,\"Item Price\": Item_Price,\"Total Purchase Value\":Purch_Value})\n",
    "\n",
    "#Format\n",
    "Popular_Items_Sorted = Popular_Items.sort_values([\"Purchase Count\"]).head()\n",
    "Popular_Items_Sorted.style.format({\"Item Price\":\"${:,.2f}\",\"Total Purchase Value\":\"${:,.2f}\"})"
   ]
  },
  {
   "cell_type": "markdown",
   "metadata": {},
   "source": [
    "## Most Profitable Items"
   ]
  },
  {
   "cell_type": "markdown",
   "metadata": {},
   "source": [
    "* Sort the above table by total purchase value in descending order\n",
    "\n",
    "\n",
    "* Optional: give the displayed data cleaner formatting\n",
    "\n",
    "\n",
    "* Display a preview of the data frame\n",
    "\n"
   ]
  },
  {
   "cell_type": "code",
   "execution_count": 24,
   "metadata": {
    "scrolled": true
   },
   "outputs": [
    {
     "data": {
      "text/html": [
       "<style  type=\"text/css\" >\n",
       "</style><table id=\"T_48feb7e0_c741_11eb_a6d1_b831b57ad248\" ><thead>    <tr>        <th class=\"blank\" ></th>        <th class=\"blank level0\" ></th>        <th class=\"col_heading level0 col0\" >Purchase Count</th>        <th class=\"col_heading level0 col1\" >Item Price</th>        <th class=\"col_heading level0 col2\" >Total Purchase Value</th>    </tr>    <tr>        <th class=\"index_name level0\" >Item ID</th>        <th class=\"index_name level1\" >Item Name</th>        <th class=\"blank\" ></th>        <th class=\"blank\" ></th>        <th class=\"blank\" ></th>    </tr></thead><tbody>\n",
       "                <tr>\n",
       "                        <th id=\"T_48feb7e0_c741_11eb_a6d1_b831b57ad248level0_row0\" class=\"row_heading level0 row0\" >42</th>\n",
       "                        <th id=\"T_48feb7e0_c741_11eb_a6d1_b831b57ad248level1_row0\" class=\"row_heading level1 row0\" >The Decapitator</th>\n",
       "                        <td id=\"T_48feb7e0_c741_11eb_a6d1_b831b57ad248row0_col0\" class=\"data row0 col0\" >1</td>\n",
       "                        <td id=\"T_48feb7e0_c741_11eb_a6d1_b831b57ad248row0_col1\" class=\"data row0 col1\" >$1.75</td>\n",
       "                        <td id=\"T_48feb7e0_c741_11eb_a6d1_b831b57ad248row0_col2\" class=\"data row0 col2\" >$1.75</td>\n",
       "            </tr>\n",
       "            <tr>\n",
       "                        <th id=\"T_48feb7e0_c741_11eb_a6d1_b831b57ad248level0_row1\" class=\"row_heading level0 row1\" >104</th>\n",
       "                        <th id=\"T_48feb7e0_c741_11eb_a6d1_b831b57ad248level1_row1\" class=\"row_heading level1 row1\" >Gladiator's Glaive</th>\n",
       "                        <td id=\"T_48feb7e0_c741_11eb_a6d1_b831b57ad248row1_col0\" class=\"data row1 col0\" >1</td>\n",
       "                        <td id=\"T_48feb7e0_c741_11eb_a6d1_b831b57ad248row1_col1\" class=\"data row1 col1\" >$1.93</td>\n",
       "                        <td id=\"T_48feb7e0_c741_11eb_a6d1_b831b57ad248row1_col2\" class=\"data row1 col2\" >$1.93</td>\n",
       "            </tr>\n",
       "            <tr>\n",
       "                        <th id=\"T_48feb7e0_c741_11eb_a6d1_b831b57ad248level0_row2\" class=\"row_heading level0 row2\" >126</th>\n",
       "                        <th id=\"T_48feb7e0_c741_11eb_a6d1_b831b57ad248level1_row2\" class=\"row_heading level1 row2\" >Exiled Mithril Longsword</th>\n",
       "                        <td id=\"T_48feb7e0_c741_11eb_a6d1_b831b57ad248row2_col0\" class=\"data row2 col0\" >1</td>\n",
       "                        <td id=\"T_48feb7e0_c741_11eb_a6d1_b831b57ad248row2_col1\" class=\"data row2 col1\" >$2.00</td>\n",
       "                        <td id=\"T_48feb7e0_c741_11eb_a6d1_b831b57ad248row2_col2\" class=\"data row2 col2\" >$2.00</td>\n",
       "            </tr>\n",
       "            <tr>\n",
       "                        <th id=\"T_48feb7e0_c741_11eb_a6d1_b831b57ad248level0_row3\" class=\"row_heading level0 row3\" >125</th>\n",
       "                        <th id=\"T_48feb7e0_c741_11eb_a6d1_b831b57ad248level1_row3\" class=\"row_heading level1 row3\" >Whistling Mithril Warblade</th>\n",
       "                        <td id=\"T_48feb7e0_c741_11eb_a6d1_b831b57ad248row3_col0\" class=\"data row3 col0\" >2</td>\n",
       "                        <td id=\"T_48feb7e0_c741_11eb_a6d1_b831b57ad248row3_col1\" class=\"data row3 col1\" >$1.00</td>\n",
       "                        <td id=\"T_48feb7e0_c741_11eb_a6d1_b831b57ad248row3_col2\" class=\"data row3 col2\" >$2.00</td>\n",
       "            </tr>\n",
       "            <tr>\n",
       "                        <th id=\"T_48feb7e0_c741_11eb_a6d1_b831b57ad248level0_row4\" class=\"row_heading level0 row4\" >28</th>\n",
       "                        <th id=\"T_48feb7e0_c741_11eb_a6d1_b831b57ad248level1_row4\" class=\"row_heading level1 row4\" >Flux, Destroyer of Due Diligence</th>\n",
       "                        <td id=\"T_48feb7e0_c741_11eb_a6d1_b831b57ad248row4_col0\" class=\"data row4 col0\" >2</td>\n",
       "                        <td id=\"T_48feb7e0_c741_11eb_a6d1_b831b57ad248row4_col1\" class=\"data row4 col1\" >$1.06</td>\n",
       "                        <td id=\"T_48feb7e0_c741_11eb_a6d1_b831b57ad248row4_col2\" class=\"data row4 col2\" >$2.12</td>\n",
       "            </tr>\n",
       "    </tbody></table>"
      ],
      "text/plain": [
       "<pandas.io.formats.style.Styler at 0x24b7ab32490>"
      ]
     },
     "execution_count": 24,
     "metadata": {},
     "output_type": "execute_result"
    }
   ],
   "source": [
    "#Profitable Items Results\n",
    "Popular_Items_Sorted = Popular_Items.sort_values([\"Total Purchase Value\"],).head()\n",
    "\n",
    "#Format\n",
    "Popular_Items_Sorted.style.format({\"Item Price\":\"${:,.2f}\",\"Total Purchase Value\":\"${:,.2f}\"})"
   ]
  }
 ],
 "metadata": {
  "anaconda-cloud": {},
  "kernel_info": {
   "name": "python3"
  },
  "kernelspec": {
   "display_name": "Python 3",
   "language": "python",
   "name": "python3"
  },
  "language_info": {
   "codemirror_mode": {
    "name": "ipython",
    "version": 3
   },
   "file_extension": ".py",
   "mimetype": "text/x-python",
   "name": "python",
   "nbconvert_exporter": "python",
   "pygments_lexer": "ipython3",
   "version": "3.8.5"
  },
  "latex_envs": {
   "LaTeX_envs_menu_present": true,
   "autoclose": false,
   "autocomplete": true,
   "bibliofile": "biblio.bib",
   "cite_by": "apalike",
   "current_citInitial": 1,
   "eqLabelWithNumbers": true,
   "eqNumInitial": 1,
   "hotkeys": {
    "equation": "Ctrl-E",
    "itemize": "Ctrl-I"
   },
   "labels_anchors": false,
   "latex_user_defs": false,
   "report_style_numbering": false,
   "user_envs_cfg": false
  },
  "nteract": {
   "version": "0.2.0"
  }
 },
 "nbformat": 4,
 "nbformat_minor": 2
}
